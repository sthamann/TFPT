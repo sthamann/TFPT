{
  "cells": [
    {
      "cell_type": "markdown",
      "metadata": {},
      "source": [
        "# E8 Orbit Engine - Demo Notebook\n",
        "\n",
        "This notebook demonstrates the E8 Orbit Engine, which derives the quadratic damping function γ(n) from nilpotent E8 orbits.\n",
        "\n",
        "## Theory Background\n",
        "\n",
        "From the paper \"Von Topologie zu Dynamik\":\n",
        "- The damping function γ(n) ≈ 0.834 + 0.108n + 0.0105627n²\n",
        "- Calibration-free test: Δ³ln(φ) = -2γ₂\n",
        "- Topological constraint: γ₂ = γ₀/(8π²)\n"
      ]
    },
    {
      "cell_type": "code",
      "execution_count": null,
      "metadata": {},
      "outputs": [],
      "source": [
        "# Setup\n",
        "import sys\n",
        "from pathlib import Path\n",
        "sys.path.insert(0, str(Path.cwd().parent / 'src'))\n",
        "\n",
        "import numpy as np\n",
        "import pandas as pd\n",
        "import matplotlib.pyplot as plt\n",
        "import seaborn as sns\n",
        "from IPython.display import display, HTML\n",
        "\n",
        "# Import E8 Orbit Engine\n",
        "from e8_orbit_engine import (\n",
        "    load_orbits,\n",
        "    build_chain,\n",
        "    fit_gamma,\n",
        "    verify_lnD_cubic,\n",
        "    phi_third_diff_from_fit,\n",
        "    generate_report\n",
        ")\n",
        "from e8_orbit_engine.fit import analyze_fit_quality\n",
        "from e8_orbit_engine.verify import comprehensive_verification\n",
        "\n",
        "# Set style\n",
        "plt.style.use('seaborn-v0_8-darkgrid')\n",
        "sns.set_palette('husl')\n",
        "%matplotlib inline\n"
      ]
    }
  ],
  "metadata": {
    "language_info": {
      "name": "python"
    }
  },
  "nbformat": 4,
  "nbformat_minor": 2
}
