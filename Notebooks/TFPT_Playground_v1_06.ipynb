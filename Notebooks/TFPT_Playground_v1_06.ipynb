{
 "cells": [
  {
   "cell_type": "markdown",
   "id": "e8254b2f",
   "metadata": {},
   "source": [
    "# TFPT Playground v1.06 – Topological Fixed Point Theory\n",
    "\n",
    "This notebook is a self contained, runnable playground that implements the newest version of the theory:\n",
    "- Topological and geometric invariants: \\(c_3=\\tfrac{1}{8\\pi}\\), \\(\\varphi_0=\\tfrac{1}{6\\pi}+\\tfrac{3}{256\\pi^4}\\)\n",
    "- Cubic fixed point for \\(\\alpha\\) with the 4D variational route\n",
    "- Log exact \\(E_8\\) ladder \\(\\{D_n=60-2n\\}\\) with \\(\\gamma(0)=0.834\\), \\(\\lambda=\\gamma(0)/(\\ln 248-\\ln 60)\\)\n",
    "- Standard Model style blocks for masses and scales (EW, hadron, pion, PQ axion, seesaw)\n",
    "- Inflation module (alpha attractor) with predictions for \\((n_s, r, \\alpha_s, n_t, H, V^{1/4})\\)\n",
    "\n",
    "> Tip: Run all cells once. Then play with the widgets near the bottom (requires ipywidgets).\n"
   ]
  },
  {
   "cell_type": "code",
   "execution_count": null,
   "id": "34e8f1a1",
   "metadata": {},
   "outputs": [],
   "source": [
    "# Core imports\n",
    "import math, numpy as np, pandas as pd\n",
    "import matplotlib.pyplot as plt\n",
    "from math import log, pi, sqrt\n",
    "from dataclasses import dataclass\n",
    "try:\n",
    "    import mpmath as mp\n",
    "    mp.mp.dps = 50\n",
    "except Exception as e:\n",
    "    raise RuntimeError(\"mpmath is required for high precision\")"
   ]
  },
  {
   "cell_type": "markdown",
   "id": "d1244951",
   "metadata": {},
   "source": [
    "## Invariants and handy helpers\n",
    "\n",
    "We collect all fixed numbers and helper functions in one place."
   ]
  },
  {
   "cell_type": "code",
   "execution_count": null,
   "id": "d3abfb02",
   "metadata": {},
   "outputs": [],
   "source": [
    "# Fixed invariants (reduced Planck units unless noted otherwise)\n",
    "def c3():\n",
    "    return 1.0/(8.0*math.pi)\n",
    "\n",
    "def phi0():\n",
    "    return 1.0/(6.0*math.pi) + 3.0/(256.0*math.pi**4)\n",
    "\n",
    "def A_coeff():\n",
    "    # A = 2 c3^3 = 1/(256 pi^3)\n",
    "    c = c3()\n",
    "    return 2.0*(c**3)\n",
    "\n",
    "def kappa():\n",
    "    # kappa = (b1/(2pi)) * ln(1/phi0), with b1 = 41/10 in GUT norm\n",
    "    b1 = 41.0/10.0\n",
    "    return (b1/(2.0*math.pi))*math.log(1.0/phi0())\n",
    "\n",
    "def theory_numbers():\n",
    "    return {\n",
    "        \"c3\": c3(),\n",
    "        \"phi0\": phi0(),\n",
    "        \"A\": A_coeff(),\n",
    "        \"kappa\": kappa(),\n",
    "        \"b1\": 41.0/10.0,\n",
    "    }\n",
    "\n",
    "theory_numbers()"
   ]
  },
  {
   "cell_type": "markdown",
   "id": "222c3e2b",
   "metadata": {},
   "source": [
    "## Cubic fixed point for \\(\\alpha\\)\n",
    "\n",
    "We solve the cubic\n",
    "\\[\\alpha^3 - 2c_3^3\\alpha^2 - 8\\,b_1\\,c_3^6 \\ln(1/\\varphi_0) = 0\\]\n",
    "with both a precise Cardano style expression and a very accurate practice formula.\n"
   ]
  },
  {
   "cell_type": "code",
   "execution_count": null,
   "id": "7130bbd2",
   "metadata": {},
   "outputs": [],
   "source": [
    "def alpha_root_high_precision():\n",
    "    c = mp.mpf(c3())\n",
    "    b1 = mp.mpf(41)/mp.mpf(10)\n",
    "    phi = mp.mpf(phi0())\n",
    "    # coefficients for alpha^3 - 2 c3^3 alpha^2 - 8 b1 c3^6 ln(1/phi0) = 0\n",
    "    A2 = -2*(c**3)              # coefficient in front of alpha^2\n",
    "    B = -8*b1*(c**6)*mp.log(1.0/phi)\n",
    "\n",
    "    # Depressed cubic via alpha = y + 2/3 c3^3\n",
    "    shift = (2*(c**3))/3\n",
    "    p = - (4/3)*(c**6)\n",
    "    q = - (16/27)*(c**9) + B\n",
    "    # Discriminant\n",
    "    Delta = (q/2)**2 + (p/3)**3\n",
    "    root = mp.cbrt(-q/2 + mp.sqrt(Delta)) + mp.cbrt(-q/2 - mp.sqrt(Delta)) + shift\n",
    "    return root\n",
    "\n",
    "def alpha_root_practice():\n",
    "    # alpha ≈ (8 b1 c3^6 ln(1/phi0))^(1/3) + 2/3 c3^3\n",
    "    b1 = 41.0/10.0\n",
    "    c = c3()\n",
    "    term = 8.0*b1*(c**6)*math.log(1.0/phi0())\n",
    "    return term**(1.0/3.0) + (2.0/3.0)*(c**3)\n",
    "\n",
    "alpha_exact = float(alpha_root_high_precision())\n",
    "alpha_practice = alpha_root_practice()\n",
    "alpha_exact, alpha_practice, 1.0/alpha_exact"
   ]
  },
  {
   "cell_type": "markdown",
   "id": "81e6e5ae",
   "metadata": {},
   "source": [
    "## Log exact \\(E_8\\) ladder\n",
    "\n",
    "We implement \\(D_n=60-2n\\), \\(\\gamma(0)=0.834\\), \\(\\lambda=\\gamma(0)/(\\ln 248 - \\ln 60)\\) and\n",
    "\\[\\varphi_n = \\begin{cases}\n",
    "\\varphi_0, & n=0,\\\\[2pt]\n",
    "\\varphi_0 \\, e^{-\\gamma(0)} \\left(\\dfrac{D_n}{D_1}\\right)^\\lambda, & n\\ge 1.\n",
    "\\end{cases}\\]"
   ]
  },
  {
   "cell_type": "code",
   "execution_count": null,
   "id": "460bbdb5",
   "metadata": {},
   "outputs": [],
   "source": [
    "def gamma0():\n",
    "    return 0.834\n",
    "\n",
    "def lambda_from_gamma0():\n",
    "    s_star = math.log(248.0) - math.log(60.0)\n",
    "    return gamma0()/s_star\n",
    "\n",
    "def D(n):\n",
    "    return 60 - 2*n\n",
    "\n",
    "def phi_n(n):\n",
    "    if n == 0:\n",
    "        return phi0()\n",
    "    lam = lambda_from_gamma0()\n",
    "    return phi0()*math.exp(-gamma0())*((D(n)/58.0)**lam)\n",
    "\n",
    "def ladder_table():\n",
    "    rows = []\n",
    "    lam = lambda_from_gamma0()\n",
    "    for n in range(0, 27):\n",
    "        dn = D(n)\n",
    "        if dn <= 0: break\n",
    "        rows.append({\n",
    "            \"n\": n,\n",
    "            \"D_n\": dn,\n",
    "            \"ln D_n\": math.log(dn),\n",
    "            \"phi_n\": phi_n(n)\n",
    "        })\n",
    "    return pd.DataFrame(rows)\n",
    "\n",
    "ladder_df = ladder_table()\n",
    "ladder_df.head(10)"
   ]
  },
  {
   "cell_type": "markdown",
   "id": "086343b7",
   "metadata": {},
   "source": [
    "### Calibration free ratio tests\n",
    "\n",
    "Three quick checks that depend only on the ladder structure:\n",
    "\\[\\frac{\\varphi_{12}}{\\varphi_{10}}=\\left(\\frac{36}{40}\\right)^\\lambda,\\quad\n",
    "  \\frac{\\varphi_{15}}{\\varphi_{12}}=\\left(\\frac{30}{36}\\right)^\\lambda,\\quad\n",
    "  \\frac{\\varphi_{25}}{\\varphi_{15}}=\\left(\\frac{10}{30}\\right)^\\lambda.\\]"
   ]
  },
  {
   "cell_type": "code",
   "execution_count": null,
   "id": "b3eb356f",
   "metadata": {},
   "outputs": [],
   "source": [
    "lam = lambda_from_gamma0()\n",
    "ratios_theory = [\n",
    "    (phi_n(12)/phi_n(10), (36/40)**lam),\n",
    "    (phi_n(15)/phi_n(12), (30/36)**lam),\n",
    "    (phi_n(25)/phi_n(15), (10/30)**lam),\n",
    "]\n",
    "ratios_theory"
   ]
  },
  {
   "cell_type": "markdown",
   "id": "56a446ec",
   "metadata": {},
   "source": [
    "### Ladder plot"
   ]
  },
  {
   "cell_type": "code",
   "execution_count": null,
   "id": "612a3d9d",
   "metadata": {},
   "outputs": [],
   "source": [
    "plt.figure()\n",
    "plt.plot(ladder_df[\"n\"], ladder_df[\"phi_n\"], marker=\"o\")\n",
    "plt.xlabel(\"structure step n\")\n",
    "plt.ylabel(\"phi_n\")\n",
    "plt.title(\"E8 ladder: phi_n versus n\")\n",
    "plt.show()"
   ]
  },
  {
   "cell_type": "markdown",
   "id": "a4745a30",
   "metadata": {},
   "source": [
    "## Block constants and observable maps\n",
    "\n",
    "For a block \\(B\\) with effective rank \\(r_B\\) and a rational topological number \\(k_B\\), define\n",
    "\\[\\zeta_B = (\\pi c_3)\\,\\exp\\!\\left[-\\beta_B \\pi c_3\\right]\\exp\\!\\left[-\\frac{k_B}{c_3}\\right],\\qquad \\beta_B=\\frac{8-r_B}{8},\\]\n",
    "and map to a dimensionful quantity via \\(X_B=\\zeta_B\\,M_{\\rm Pl}\\,\\varphi_{n_B}\\)."
   ]
  },
  {
   "cell_type": "code",
   "execution_count": null,
   "id": "48b5f56d",
   "metadata": {},
   "outputs": [],
   "source": [
    "MPl = 1.221e19  # GeV\n",
    "\n",
    "def zeta_B(rB, kB):\n",
    "    betaB = (8.0 - rB)/8.0\n",
    "    return (math.pi*c3())*math.exp(-betaB*math.pi*c3())*math.exp(-kB/c3())\n",
    "\n",
    "def EW_block_values(g2=0.652, g1_SM=0.357):\n",
    "    # EW block: n=12, r=2 => beta=3/4, k=41/32\n",
    "    rB, kB, nB = 2.0, (41.0/32.0), 12\n",
    "    z = zeta_B(rB, kB)\n",
    "    vH = z*MPl*phi_n(nB)\n",
    "    MW = 0.5*g2*vH\n",
    "    MZ = 0.5*math.sqrt(g2**2 + g1_SM**2)*vH\n",
    "    yt_top = 1.0\n",
    "    mt = vH/math.sqrt(2.0)*yt_top\n",
    "    return {\"vH\": vH, \"MW\": MW, \"MZ\": MZ, \"mt(minimal)\": mt}\n",
    "\n",
    "def hadron_block_values():\n",
    "    # Proton: n=15, r=5 => beta=3/8, k_p = 3/2\n",
    "    rB, k_p, nB = 5.0, 1.5, 15\n",
    "    z_p = zeta_B(rB, k_p)\n",
    "    mp = z_p*MPl*phi_n(nB)\n",
    "    # Pion: n=16, same r=5, k_pi = 51/32\n",
    "    k_pi, n_pi = (51.0/32.0), 16\n",
    "    z_pi = zeta_B(rB, k_pi)\n",
    "    f_pi = z_pi*MPl*phi_n(n_pi)  # in GeV\n",
    "    # GMOR estimate\n",
    "    mu_plus_md = 6.8e-3 # GeV at 2 GeV\n",
    "    qbarq_cuberoot = 0.272 # GeV\n",
    "    qbarq = qbarq_cuberoot**3\n",
    "    m_pi = math.sqrt(mu_plus_md*qbarq)/f_pi\n",
    "    return {\"mp\": mp, \"f_pi\": f_pi*1e3, \"m_pi\": m_pi*1e3}  # f_pi, m_pi in MeV\n",
    "\n",
    "def pq_axion_block():\n",
    "    # PQ: n=10, r=1 => beta=7/8, k=1/2\n",
    "    rB, kB, nB = 1.0, 0.5, 10\n",
    "    z = zeta_B(rB, kB)\n",
    "    f_a = z*MPl*phi_n(nB)      # GeV\n",
    "    m_a_eV = 5.7e-6 * (1.0e12/f_a)  # eV (5.7 micro eV * (1e12 GeV / f_a))\n",
    "    return {\"f_a\": f_a, \"m_a [micro eV]\": m_a_eV*1e6}\n",
    "\n",
    "def seesaw_block(y_nu3=1.0):\n",
    "    # Seesaw: n=5, r=4 => beta=1/2, k=1/8\n",
    "    rB, kB, nB = 4.0, 1.0/8.0, 5\n",
    "    z = zeta_B(rB, kB)\n",
    "    MR = z*MPl*phi_n(nB)   # GeV\n",
    "    vH = EW_block_values()[\"vH\"]\n",
    "    mnu3 = (vH**2)/MR * (y_nu3**2)   # GeV\n",
    "    return {\"M_R\": MR, \"m_nu3 [eV]\": mnu3*1e9}\n",
    "\n",
    "EW_block_values(), hadron_block_values(), pq_axion_block(), seesaw_block()"
   ]
  },
  {
   "cell_type": "markdown",
   "id": "1ee340c0",
   "metadata": {},
   "source": [
    "### Summary of block outputs"
   ]
  },
  {
   "cell_type": "code",
   "execution_count": null,
   "id": "23792ac3",
   "metadata": {},
   "outputs": [],
   "source": [
    "summary = {}\n",
    "summary.update({k:f for k,f in EW_block_values().items()})\n",
    "for k,v in hadron_block_values().items():\n",
    "    summary[k] = v\n",
    "summary.update(pq_axion_block())\n",
    "summary.update(seesaw_block())\n",
    "\n",
    "pd.DataFrame([summary]).T.rename(columns={0:\"value\"})"
   ]
  },
  {
   "cell_type": "markdown",
   "id": "d29a8b38",
   "metadata": {},
   "source": [
    "### Cubic function \\(f(\\alpha)\\) near the root"
   ]
  },
  {
   "cell_type": "code",
   "execution_count": null,
   "id": "4e18db2f",
   "metadata": {},
   "outputs": [],
   "source": [
    "def f_alpha(a):\n",
    "    c = c3()\n",
    "    b1 = 41.0/10.0\n",
    "    return a**3 - 2*(c**3)*a**2 - 8*b1*(c**6)*math.log(1.0/phi0())\n",
    "\n",
    "xs = np.linspace(alpha_practice*0.98, alpha_practice*1.02, 200)\n",
    "ys = [f_alpha(x) for x in xs]\n",
    "plt.figure()\n",
    "plt.plot(xs, ys)\n",
    "plt.axhline(0, linewidth=1)\n",
    "plt.axvline(alpha_exact, linestyle=\"--\", linewidth=1)\n",
    "plt.xlabel(\"alpha\")\n",
    "plt.ylabel(\"f(alpha)\")\n",
    "plt.title(\"Cubic fixed point: root marker at alpha_exact\")\n",
    "plt.show()"
   ]
  },
  {
   "cell_type": "markdown",
   "id": "ddb0e1f0",
   "metadata": {},
   "source": [
    "## Inflation module (alpha attractor)\n",
    "\n",
    "We use the TFPT normalisation \\(\\alpha_{\\rm inf}=\\varphi_0/(2c_3)\\).\n",
    "Predictions at the CMB pivot:\n",
    "\\[\\;n_s \\simeq 1-\\frac{2}{N},\\quad r\\simeq\\frac{12\\,\\alpha_{\\rm inf}}{N^2},\\quad\n",
    "\\alpha_s \\simeq -\\frac{2}{N^2},\\quad n_t\\simeq -\\frac{r}{8}.\\]\n",
    "Amplitude \\(A_s \\approx 2.11\\times10^{-9}\\) fixes \\(H\\) and \\(V^{1/4}\\)."
   ]
  },
  {
   "cell_type": "code",
   "execution_count": null,
   "id": "e13aeee7",
   "metadata": {},
   "outputs": [],
   "source": [
    "def alpha_inf():\n",
    "    return phi0()/(2.0*c3())  # unique choice per v1.06\n",
    "\n",
    "def inflation_numbers(N, As=2.11e-9):\n",
    "    ainf = alpha_inf()\n",
    "    ns = 1.0 - 2.0/N\n",
    "    r = 12.0*ainf/(N**2)\n",
    "    alpha_s = -2.0/(N**2)\n",
    "    n_t = -r/8.0\n",
    "    # H and V^{1/4}\n",
    "    H = math.pi * 1.221e19 * math.sqrt(As*r)/math.sqrt(2.0)  # GeV\n",
    "    V_quart = (3*(math.pi**2)*As*r)**0.25 * 1.221e19  # GeV\n",
    "    return {\"N\":N, \"ns\":ns, \"r\":r, \"alpha_s\":alpha_s, \"n_t\":n_t, \"H [GeV]\":H, \"V^{1/4} [GeV]\":V_quart}\n",
    "\n",
    "# Example at N=55\n",
    "inflation_numbers(55)"
   ]
  },
  {
   "cell_type": "markdown",
   "id": "5e7fcc42",
   "metadata": {},
   "source": [
    "### Plots: \\(n_s(N)\\) and \\(r(N)\\)"
   ]
  },
  {
   "cell_type": "code",
   "execution_count": null,
   "id": "cfc086d2",
   "metadata": {},
   "outputs": [],
   "source": [
    "Ns = np.arange(45, 71)\n",
    "vals_ns = [inflation_numbers(int(N))[\"ns\"] for N in Ns]\n",
    "vals_r  = [inflation_numbers(int(N))[\"r\"]  for N in Ns]\n",
    "\n",
    "plt.figure()\n",
    "plt.plot(Ns, vals_ns, marker=\"o\")\n",
    "plt.xlabel(\"N\")\n",
    "plt.ylabel(\"n_s\")\n",
    "plt.title(\"n_s versus N\")\n",
    "plt.show()\n",
    "\n",
    "plt.figure()\n",
    "plt.plot(Ns, vals_r, marker=\"o\")\n",
    "plt.xlabel(\"N\")\n",
    "plt.ylabel(\"r\")\n",
    "plt.title(\"r versus N\")\n",
    "plt.show()"
   ]
  },
  {
   "cell_type": "markdown",
   "id": "b15ca8b1",
   "metadata": {},
   "source": [
    "## Interactive playground\n",
    "\n",
    "Move the sliders to explore block outputs and inflation numbers. Requires ipywidgets in your environment.\n"
   ]
  },
  {
   "cell_type": "code",
   "execution_count": null,
   "id": "ad1e470f",
   "metadata": {},
   "outputs": [],
   "source": [
    "try:\n",
    "    import ipywidgets as W\n",
    "    from IPython.display import display, HTML\n",
    "    \n",
    "    # Inflation widget\n",
    "    N_slider = W.IntSlider(value=55, min=45, max=70, step=1, description=\"N\")\n",
    "    out_inf = W.Output()\n",
    "    def _update_inf(change=None):\n",
    "        with out_inf:\n",
    "            out_inf.clear_output()\n",
    "            res = inflation_numbers(N_slider.value)\n",
    "            display(pd.DataFrame([res]))\n",
    "    N_slider.observe(_update_inf, names=\"value\")\n",
    "    _update_inf()\n",
    "    display(W.VBox([W.HTML(\"<b>Inflation numbers</b>\"), N_slider, out_inf]))\n",
    "    \n",
    "    # Block widget\n",
    "    rB = W.FloatSlider(value=2.0, min=1.0, max=7.0, step=0.5, description=\"r_B\")\n",
    "    kB = W.FloatText(value=41.0/32.0, description=\"k_B\")\n",
    "    nB = W.IntSlider(value=12, min=1, max=26, step=1, description=\"n_B\")\n",
    "    out_block = W.Output()\n",
    "    def _update_block(change=None):\n",
    "        with out_block:\n",
    "            out_block.clear_output()\n",
    "            z = zeta_B(rB.value, kB.value)\n",
    "            X = z*MPl*phi_n(nB.value)\n",
    "            display(pd.DataFrame([{\"zeta_B\":z, \"X_B = zeta_B MPl phi_n\": X,\n",
    "                                   \"r_B\": rB.value, \"k_B\": kB.value, \"n_B\": nB.value}]))\n",
    "    for w in (rB,kB,nB):\n",
    "        w.observe(_update_block, names=\"value\")\n",
    "    _update_block()\n",
    "    display(W.VBox([W.HTML(\"<b>Generic block mapper</b>\"), W.HBox([rB, kB, nB]), out_block]))\n",
    "except Exception as e:\n",
    "    print(\"ipywidgets not available, skipping interactive cells:\", e)"
   ]
  },
  {
   "cell_type": "markdown",
   "id": "8895f070",
   "metadata": {},
   "source": [
    "## Final readout\n",
    "\n",
    "A compact readout of the core numbers, useful for quick checks."
   ]
  },
  {
   "cell_type": "code",
   "execution_count": null,
   "id": "0e55c468",
   "metadata": {},
   "outputs": [],
   "source": [
    "out = dict(\n",
    "    c3=c3(),\n",
    "    phi0=phi0(),\n",
    "    A=A_coeff(),\n",
    "    kappa=kappa(),\n",
    "    alpha_exact=alpha_exact,\n",
    "    alpha_inv_exact=1.0/alpha_exact,\n",
    "    gamma0=gamma0(),\n",
    "    lambda_val=lambda_from_gamma0(),\n",
    "    alpha_inf=alpha_inf()\n",
    ")\n",
    "pd.DataFrame([out]).T.rename(columns={0:\"value\"})"
   ]
  }
 ],
 "metadata": {},
 "nbformat": 4,
 "nbformat_minor": 5
}
